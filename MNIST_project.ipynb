{
  "nbformat": 4,
  "nbformat_minor": 0,
  "metadata": {
    "colab": {
      "name": "MNIST-project.ipynb",
      "provenance": [],
      "collapsed_sections": [],
      "include_colab_link": true
    },
    "kernelspec": {
      "name": "python3",
      "display_name": "Python 3"
    },
    "language_info": {
      "name": "python"
    },
    "accelerator": "GPU"
  },
  "cells": [
    {
      "cell_type": "markdown",
      "metadata": {
        "id": "view-in-github",
        "colab_type": "text"
      },
      "source": [
        "<a href=\"https://colab.research.google.com/github/vanillaay/Python-project/blob/main/MNIST_project.ipynb\" target=\"_parent\"><img src=\"https://colab.research.google.com/assets/colab-badge.svg\" alt=\"Open In Colab\"/></a>"
      ]
    },
    {
      "cell_type": "code",
      "metadata": {
        "colab": {
          "base_uri": "https://localhost:8080/"
        },
        "id": "s5XegvBlvAiD",
        "outputId": "a30dd58b-b32f-4a91-93f0-cb769f7d9125"
      },
      "source": [
        "from google.colab import drive\n",
        "drive.mount('/content/drive')"
      ],
      "execution_count": null,
      "outputs": [
        {
          "output_type": "stream",
          "text": [
            "Mounted at /content/drive\n"
          ],
          "name": "stdout"
        }
      ]
    },
    {
      "cell_type": "markdown",
      "metadata": {
        "id": "3QTLpiZRgVWr"
      },
      "source": [
        "**Importing the data**"
      ]
    },
    {
      "cell_type": "code",
      "metadata": {
        "id": "EqJjTXAuvxE0"
      },
      "source": [
        "import pandas as pd\n",
        "import seaborn as sns\n",
        "from keras.utils.np_utils import to_categorical\n",
        "from sklearn.model_selection import train_test_split\n",
        "import numpy as np\n",
        "import matplotlib.pyplot as plt\n",
        "\n",
        "from keras.models import Sequential\n",
        "from keras.layers import Dense, Dropout, Flatten, Conv2D, MaxPool2D\n",
        "from keras.optimizers import RMSprop"
      ],
      "execution_count": null,
      "outputs": []
    },
    {
      "cell_type": "code",
      "metadata": {
        "id": "RIAvkYv1vSLo"
      },
      "source": [
        "# loading in data\n",
        "\n",
        "train = pd.read_csv('/content/drive/MyDrive/MNIST/train.csv')\n",
        "test = pd.read_csv('/content/drive/MyDrive/MNIST/test.csv')"
      ],
      "execution_count": null,
      "outputs": []
    },
    {
      "cell_type": "code",
      "metadata": {
        "colab": {
          "base_uri": "https://localhost:8080/",
          "height": 246
        },
        "id": "9D7UnP0HQgxi",
        "outputId": "c291f19a-f9b8-4765-9259-c6c5d25b5d19"
      },
      "source": [
        "train.head()"
      ],
      "execution_count": null,
      "outputs": [
        {
          "output_type": "execute_result",
          "data": {
            "text/html": [
              "<div>\n",
              "<style scoped>\n",
              "    .dataframe tbody tr th:only-of-type {\n",
              "        vertical-align: middle;\n",
              "    }\n",
              "\n",
              "    .dataframe tbody tr th {\n",
              "        vertical-align: top;\n",
              "    }\n",
              "\n",
              "    .dataframe thead th {\n",
              "        text-align: right;\n",
              "    }\n",
              "</style>\n",
              "<table border=\"1\" class=\"dataframe\">\n",
              "  <thead>\n",
              "    <tr style=\"text-align: right;\">\n",
              "      <th></th>\n",
              "      <th>label</th>\n",
              "      <th>pixel0</th>\n",
              "      <th>pixel1</th>\n",
              "      <th>pixel2</th>\n",
              "      <th>pixel3</th>\n",
              "      <th>pixel4</th>\n",
              "      <th>pixel5</th>\n",
              "      <th>pixel6</th>\n",
              "      <th>pixel7</th>\n",
              "      <th>pixel8</th>\n",
              "      <th>pixel9</th>\n",
              "      <th>pixel10</th>\n",
              "      <th>pixel11</th>\n",
              "      <th>pixel12</th>\n",
              "      <th>pixel13</th>\n",
              "      <th>pixel14</th>\n",
              "      <th>pixel15</th>\n",
              "      <th>pixel16</th>\n",
              "      <th>pixel17</th>\n",
              "      <th>pixel18</th>\n",
              "      <th>pixel19</th>\n",
              "      <th>pixel20</th>\n",
              "      <th>pixel21</th>\n",
              "      <th>pixel22</th>\n",
              "      <th>pixel23</th>\n",
              "      <th>pixel24</th>\n",
              "      <th>pixel25</th>\n",
              "      <th>pixel26</th>\n",
              "      <th>pixel27</th>\n",
              "      <th>pixel28</th>\n",
              "      <th>pixel29</th>\n",
              "      <th>pixel30</th>\n",
              "      <th>pixel31</th>\n",
              "      <th>pixel32</th>\n",
              "      <th>pixel33</th>\n",
              "      <th>pixel34</th>\n",
              "      <th>pixel35</th>\n",
              "      <th>pixel36</th>\n",
              "      <th>pixel37</th>\n",
              "      <th>pixel38</th>\n",
              "      <th>...</th>\n",
              "      <th>pixel744</th>\n",
              "      <th>pixel745</th>\n",
              "      <th>pixel746</th>\n",
              "      <th>pixel747</th>\n",
              "      <th>pixel748</th>\n",
              "      <th>pixel749</th>\n",
              "      <th>pixel750</th>\n",
              "      <th>pixel751</th>\n",
              "      <th>pixel752</th>\n",
              "      <th>pixel753</th>\n",
              "      <th>pixel754</th>\n",
              "      <th>pixel755</th>\n",
              "      <th>pixel756</th>\n",
              "      <th>pixel757</th>\n",
              "      <th>pixel758</th>\n",
              "      <th>pixel759</th>\n",
              "      <th>pixel760</th>\n",
              "      <th>pixel761</th>\n",
              "      <th>pixel762</th>\n",
              "      <th>pixel763</th>\n",
              "      <th>pixel764</th>\n",
              "      <th>pixel765</th>\n",
              "      <th>pixel766</th>\n",
              "      <th>pixel767</th>\n",
              "      <th>pixel768</th>\n",
              "      <th>pixel769</th>\n",
              "      <th>pixel770</th>\n",
              "      <th>pixel771</th>\n",
              "      <th>pixel772</th>\n",
              "      <th>pixel773</th>\n",
              "      <th>pixel774</th>\n",
              "      <th>pixel775</th>\n",
              "      <th>pixel776</th>\n",
              "      <th>pixel777</th>\n",
              "      <th>pixel778</th>\n",
              "      <th>pixel779</th>\n",
              "      <th>pixel780</th>\n",
              "      <th>pixel781</th>\n",
              "      <th>pixel782</th>\n",
              "      <th>pixel783</th>\n",
              "    </tr>\n",
              "  </thead>\n",
              "  <tbody>\n",
              "    <tr>\n",
              "      <th>0</th>\n",
              "      <td>1</td>\n",
              "      <td>0</td>\n",
              "      <td>0</td>\n",
              "      <td>0</td>\n",
              "      <td>0</td>\n",
              "      <td>0</td>\n",
              "      <td>0</td>\n",
              "      <td>0</td>\n",
              "      <td>0</td>\n",
              "      <td>0</td>\n",
              "      <td>0</td>\n",
              "      <td>0</td>\n",
              "      <td>0</td>\n",
              "      <td>0</td>\n",
              "      <td>0</td>\n",
              "      <td>0</td>\n",
              "      <td>0</td>\n",
              "      <td>0</td>\n",
              "      <td>0</td>\n",
              "      <td>0</td>\n",
              "      <td>0</td>\n",
              "      <td>0</td>\n",
              "      <td>0</td>\n",
              "      <td>0</td>\n",
              "      <td>0</td>\n",
              "      <td>0</td>\n",
              "      <td>0</td>\n",
              "      <td>0</td>\n",
              "      <td>0</td>\n",
              "      <td>0</td>\n",
              "      <td>0</td>\n",
              "      <td>0</td>\n",
              "      <td>0</td>\n",
              "      <td>0</td>\n",
              "      <td>0</td>\n",
              "      <td>0</td>\n",
              "      <td>0</td>\n",
              "      <td>0</td>\n",
              "      <td>0</td>\n",
              "      <td>0</td>\n",
              "      <td>...</td>\n",
              "      <td>0</td>\n",
              "      <td>0</td>\n",
              "      <td>0</td>\n",
              "      <td>0</td>\n",
              "      <td>0</td>\n",
              "      <td>0</td>\n",
              "      <td>0</td>\n",
              "      <td>0</td>\n",
              "      <td>0</td>\n",
              "      <td>0</td>\n",
              "      <td>0</td>\n",
              "      <td>0</td>\n",
              "      <td>0</td>\n",
              "      <td>0</td>\n",
              "      <td>0</td>\n",
              "      <td>0</td>\n",
              "      <td>0</td>\n",
              "      <td>0</td>\n",
              "      <td>0</td>\n",
              "      <td>0</td>\n",
              "      <td>0</td>\n",
              "      <td>0</td>\n",
              "      <td>0</td>\n",
              "      <td>0</td>\n",
              "      <td>0</td>\n",
              "      <td>0</td>\n",
              "      <td>0</td>\n",
              "      <td>0</td>\n",
              "      <td>0</td>\n",
              "      <td>0</td>\n",
              "      <td>0</td>\n",
              "      <td>0</td>\n",
              "      <td>0</td>\n",
              "      <td>0</td>\n",
              "      <td>0</td>\n",
              "      <td>0</td>\n",
              "      <td>0</td>\n",
              "      <td>0</td>\n",
              "      <td>0</td>\n",
              "      <td>0</td>\n",
              "    </tr>\n",
              "    <tr>\n",
              "      <th>1</th>\n",
              "      <td>0</td>\n",
              "      <td>0</td>\n",
              "      <td>0</td>\n",
              "      <td>0</td>\n",
              "      <td>0</td>\n",
              "      <td>0</td>\n",
              "      <td>0</td>\n",
              "      <td>0</td>\n",
              "      <td>0</td>\n",
              "      <td>0</td>\n",
              "      <td>0</td>\n",
              "      <td>0</td>\n",
              "      <td>0</td>\n",
              "      <td>0</td>\n",
              "      <td>0</td>\n",
              "      <td>0</td>\n",
              "      <td>0</td>\n",
              "      <td>0</td>\n",
              "      <td>0</td>\n",
              "      <td>0</td>\n",
              "      <td>0</td>\n",
              "      <td>0</td>\n",
              "      <td>0</td>\n",
              "      <td>0</td>\n",
              "      <td>0</td>\n",
              "      <td>0</td>\n",
              "      <td>0</td>\n",
              "      <td>0</td>\n",
              "      <td>0</td>\n",
              "      <td>0</td>\n",
              "      <td>0</td>\n",
              "      <td>0</td>\n",
              "      <td>0</td>\n",
              "      <td>0</td>\n",
              "      <td>0</td>\n",
              "      <td>0</td>\n",
              "      <td>0</td>\n",
              "      <td>0</td>\n",
              "      <td>0</td>\n",
              "      <td>0</td>\n",
              "      <td>...</td>\n",
              "      <td>0</td>\n",
              "      <td>0</td>\n",
              "      <td>0</td>\n",
              "      <td>0</td>\n",
              "      <td>0</td>\n",
              "      <td>0</td>\n",
              "      <td>0</td>\n",
              "      <td>0</td>\n",
              "      <td>0</td>\n",
              "      <td>0</td>\n",
              "      <td>0</td>\n",
              "      <td>0</td>\n",
              "      <td>0</td>\n",
              "      <td>0</td>\n",
              "      <td>0</td>\n",
              "      <td>0</td>\n",
              "      <td>0</td>\n",
              "      <td>0</td>\n",
              "      <td>0</td>\n",
              "      <td>0</td>\n",
              "      <td>0</td>\n",
              "      <td>0</td>\n",
              "      <td>0</td>\n",
              "      <td>0</td>\n",
              "      <td>0</td>\n",
              "      <td>0</td>\n",
              "      <td>0</td>\n",
              "      <td>0</td>\n",
              "      <td>0</td>\n",
              "      <td>0</td>\n",
              "      <td>0</td>\n",
              "      <td>0</td>\n",
              "      <td>0</td>\n",
              "      <td>0</td>\n",
              "      <td>0</td>\n",
              "      <td>0</td>\n",
              "      <td>0</td>\n",
              "      <td>0</td>\n",
              "      <td>0</td>\n",
              "      <td>0</td>\n",
              "    </tr>\n",
              "    <tr>\n",
              "      <th>2</th>\n",
              "      <td>1</td>\n",
              "      <td>0</td>\n",
              "      <td>0</td>\n",
              "      <td>0</td>\n",
              "      <td>0</td>\n",
              "      <td>0</td>\n",
              "      <td>0</td>\n",
              "      <td>0</td>\n",
              "      <td>0</td>\n",
              "      <td>0</td>\n",
              "      <td>0</td>\n",
              "      <td>0</td>\n",
              "      <td>0</td>\n",
              "      <td>0</td>\n",
              "      <td>0</td>\n",
              "      <td>0</td>\n",
              "      <td>0</td>\n",
              "      <td>0</td>\n",
              "      <td>0</td>\n",
              "      <td>0</td>\n",
              "      <td>0</td>\n",
              "      <td>0</td>\n",
              "      <td>0</td>\n",
              "      <td>0</td>\n",
              "      <td>0</td>\n",
              "      <td>0</td>\n",
              "      <td>0</td>\n",
              "      <td>0</td>\n",
              "      <td>0</td>\n",
              "      <td>0</td>\n",
              "      <td>0</td>\n",
              "      <td>0</td>\n",
              "      <td>0</td>\n",
              "      <td>0</td>\n",
              "      <td>0</td>\n",
              "      <td>0</td>\n",
              "      <td>0</td>\n",
              "      <td>0</td>\n",
              "      <td>0</td>\n",
              "      <td>0</td>\n",
              "      <td>...</td>\n",
              "      <td>0</td>\n",
              "      <td>0</td>\n",
              "      <td>0</td>\n",
              "      <td>0</td>\n",
              "      <td>0</td>\n",
              "      <td>0</td>\n",
              "      <td>0</td>\n",
              "      <td>0</td>\n",
              "      <td>0</td>\n",
              "      <td>0</td>\n",
              "      <td>0</td>\n",
              "      <td>0</td>\n",
              "      <td>0</td>\n",
              "      <td>0</td>\n",
              "      <td>0</td>\n",
              "      <td>0</td>\n",
              "      <td>0</td>\n",
              "      <td>0</td>\n",
              "      <td>0</td>\n",
              "      <td>0</td>\n",
              "      <td>0</td>\n",
              "      <td>0</td>\n",
              "      <td>0</td>\n",
              "      <td>0</td>\n",
              "      <td>0</td>\n",
              "      <td>0</td>\n",
              "      <td>0</td>\n",
              "      <td>0</td>\n",
              "      <td>0</td>\n",
              "      <td>0</td>\n",
              "      <td>0</td>\n",
              "      <td>0</td>\n",
              "      <td>0</td>\n",
              "      <td>0</td>\n",
              "      <td>0</td>\n",
              "      <td>0</td>\n",
              "      <td>0</td>\n",
              "      <td>0</td>\n",
              "      <td>0</td>\n",
              "      <td>0</td>\n",
              "    </tr>\n",
              "    <tr>\n",
              "      <th>3</th>\n",
              "      <td>4</td>\n",
              "      <td>0</td>\n",
              "      <td>0</td>\n",
              "      <td>0</td>\n",
              "      <td>0</td>\n",
              "      <td>0</td>\n",
              "      <td>0</td>\n",
              "      <td>0</td>\n",
              "      <td>0</td>\n",
              "      <td>0</td>\n",
              "      <td>0</td>\n",
              "      <td>0</td>\n",
              "      <td>0</td>\n",
              "      <td>0</td>\n",
              "      <td>0</td>\n",
              "      <td>0</td>\n",
              "      <td>0</td>\n",
              "      <td>0</td>\n",
              "      <td>0</td>\n",
              "      <td>0</td>\n",
              "      <td>0</td>\n",
              "      <td>0</td>\n",
              "      <td>0</td>\n",
              "      <td>0</td>\n",
              "      <td>0</td>\n",
              "      <td>0</td>\n",
              "      <td>0</td>\n",
              "      <td>0</td>\n",
              "      <td>0</td>\n",
              "      <td>0</td>\n",
              "      <td>0</td>\n",
              "      <td>0</td>\n",
              "      <td>0</td>\n",
              "      <td>0</td>\n",
              "      <td>0</td>\n",
              "      <td>0</td>\n",
              "      <td>0</td>\n",
              "      <td>0</td>\n",
              "      <td>0</td>\n",
              "      <td>0</td>\n",
              "      <td>...</td>\n",
              "      <td>0</td>\n",
              "      <td>0</td>\n",
              "      <td>0</td>\n",
              "      <td>0</td>\n",
              "      <td>0</td>\n",
              "      <td>0</td>\n",
              "      <td>0</td>\n",
              "      <td>0</td>\n",
              "      <td>0</td>\n",
              "      <td>0</td>\n",
              "      <td>0</td>\n",
              "      <td>0</td>\n",
              "      <td>0</td>\n",
              "      <td>0</td>\n",
              "      <td>0</td>\n",
              "      <td>0</td>\n",
              "      <td>0</td>\n",
              "      <td>0</td>\n",
              "      <td>0</td>\n",
              "      <td>0</td>\n",
              "      <td>0</td>\n",
              "      <td>0</td>\n",
              "      <td>0</td>\n",
              "      <td>0</td>\n",
              "      <td>0</td>\n",
              "      <td>0</td>\n",
              "      <td>0</td>\n",
              "      <td>0</td>\n",
              "      <td>0</td>\n",
              "      <td>0</td>\n",
              "      <td>0</td>\n",
              "      <td>0</td>\n",
              "      <td>0</td>\n",
              "      <td>0</td>\n",
              "      <td>0</td>\n",
              "      <td>0</td>\n",
              "      <td>0</td>\n",
              "      <td>0</td>\n",
              "      <td>0</td>\n",
              "      <td>0</td>\n",
              "    </tr>\n",
              "    <tr>\n",
              "      <th>4</th>\n",
              "      <td>0</td>\n",
              "      <td>0</td>\n",
              "      <td>0</td>\n",
              "      <td>0</td>\n",
              "      <td>0</td>\n",
              "      <td>0</td>\n",
              "      <td>0</td>\n",
              "      <td>0</td>\n",
              "      <td>0</td>\n",
              "      <td>0</td>\n",
              "      <td>0</td>\n",
              "      <td>0</td>\n",
              "      <td>0</td>\n",
              "      <td>0</td>\n",
              "      <td>0</td>\n",
              "      <td>0</td>\n",
              "      <td>0</td>\n",
              "      <td>0</td>\n",
              "      <td>0</td>\n",
              "      <td>0</td>\n",
              "      <td>0</td>\n",
              "      <td>0</td>\n",
              "      <td>0</td>\n",
              "      <td>0</td>\n",
              "      <td>0</td>\n",
              "      <td>0</td>\n",
              "      <td>0</td>\n",
              "      <td>0</td>\n",
              "      <td>0</td>\n",
              "      <td>0</td>\n",
              "      <td>0</td>\n",
              "      <td>0</td>\n",
              "      <td>0</td>\n",
              "      <td>0</td>\n",
              "      <td>0</td>\n",
              "      <td>0</td>\n",
              "      <td>0</td>\n",
              "      <td>0</td>\n",
              "      <td>0</td>\n",
              "      <td>0</td>\n",
              "      <td>...</td>\n",
              "      <td>0</td>\n",
              "      <td>0</td>\n",
              "      <td>0</td>\n",
              "      <td>0</td>\n",
              "      <td>0</td>\n",
              "      <td>0</td>\n",
              "      <td>0</td>\n",
              "      <td>0</td>\n",
              "      <td>0</td>\n",
              "      <td>0</td>\n",
              "      <td>0</td>\n",
              "      <td>0</td>\n",
              "      <td>0</td>\n",
              "      <td>0</td>\n",
              "      <td>0</td>\n",
              "      <td>0</td>\n",
              "      <td>0</td>\n",
              "      <td>0</td>\n",
              "      <td>0</td>\n",
              "      <td>0</td>\n",
              "      <td>0</td>\n",
              "      <td>0</td>\n",
              "      <td>0</td>\n",
              "      <td>0</td>\n",
              "      <td>0</td>\n",
              "      <td>0</td>\n",
              "      <td>0</td>\n",
              "      <td>0</td>\n",
              "      <td>0</td>\n",
              "      <td>0</td>\n",
              "      <td>0</td>\n",
              "      <td>0</td>\n",
              "      <td>0</td>\n",
              "      <td>0</td>\n",
              "      <td>0</td>\n",
              "      <td>0</td>\n",
              "      <td>0</td>\n",
              "      <td>0</td>\n",
              "      <td>0</td>\n",
              "      <td>0</td>\n",
              "    </tr>\n",
              "  </tbody>\n",
              "</table>\n",
              "<p>5 rows × 785 columns</p>\n",
              "</div>"
            ],
            "text/plain": [
              "   label  pixel0  pixel1  pixel2  ...  pixel780  pixel781  pixel782  pixel783\n",
              "0      1       0       0       0  ...         0         0         0         0\n",
              "1      0       0       0       0  ...         0         0         0         0\n",
              "2      1       0       0       0  ...         0         0         0         0\n",
              "3      4       0       0       0  ...         0         0         0         0\n",
              "4      0       0       0       0  ...         0         0         0         0\n",
              "\n",
              "[5 rows x 785 columns]"
            ]
          },
          "metadata": {
            "tags": []
          },
          "execution_count": 4
        }
      ]
    },
    {
      "cell_type": "code",
      "metadata": {
        "id": "xXOjAJ-Ev2x2"
      },
      "source": [
        "y_train = train[\"label\"]\n",
        "\n",
        "# Drop column with labels\n",
        "x_train = train.drop(labels = [\"label\"],axis = 1)"
      ],
      "execution_count": null,
      "outputs": []
    },
    {
      "cell_type": "code",
      "metadata": {
        "colab": {
          "base_uri": "https://localhost:8080/",
          "height": 333
        },
        "id": "NSWgzi3rwWnO",
        "outputId": "180617b4-2999-4a04-a6a5-8366c1a936da"
      },
      "source": [
        "label_count = sns.countplot(y_train)"
      ],
      "execution_count": null,
      "outputs": [
        {
          "output_type": "stream",
          "text": [
            "/usr/local/lib/python3.7/dist-packages/seaborn/_decorators.py:43: FutureWarning: Pass the following variable as a keyword arg: x. From version 0.12, the only valid positional argument will be `data`, and passing other arguments without an explicit keyword will result in an error or misinterpretation.\n",
            "  FutureWarning\n"
          ],
          "name": "stderr"
        },
        {
          "output_type": "display_data",
          "data": {
            "image/png": "[encoded data removed]",
            "text/plain": [
              "<Figure size 432x288 with 1 Axes>"
            ]
          },
          "metadata": {
            "tags": [],
            "needs_background": "light"
          }
        }
      ]
    },
    {
      "cell_type": "markdown",
      "metadata": {
        "id": "d0ECD1Cqg2PD"
      },
      "source": [
        "**Cleaning the data**"
      ]
    },
    {
      "cell_type": "code",
      "metadata": {
        "id": "tny7LHxUxLHQ"
      },
      "source": [
        "# Normalize\n",
        "x_train = x_train / 255.0\n",
        "test = test / 255.0"
      ],
      "execution_count": null,
      "outputs": []
    },
    {
      "cell_type": "code",
      "metadata": {
        "id": "1K9nB816xP3Y"
      },
      "source": [
        "# Reshape\n",
        "x_train = x_train.values.reshape(-1,28,28,1)\n",
        "test = test.values.reshape(-1,28,28,1)"
      ],
      "execution_count": null,
      "outputs": []
    },
    {
      "cell_type": "code",
      "metadata": {
        "id": "Sq1PNxPlxhx4"
      },
      "source": [
        "# Encode\n",
        "y_train = to_categorical(y_train, num_classes = 10)"
      ],
      "execution_count": null,
      "outputs": []
    },
    {
      "cell_type": "code",
      "metadata": {
        "id": "Zf-hVco5ykIE"
      },
      "source": [
        "# Split\n",
        "x_train, x_val, y_train, y_val = train_test_split(x_train, y_train, test_size = 0.1)"
      ],
      "execution_count": null,
      "outputs": []
    },
    {
      "cell_type": "markdown",
      "metadata": {
        "id": "mO7_OUUSg6xM"
      },
      "source": [
        "**Example of numbers**"
      ]
    },
    {
      "cell_type": "code",
      "metadata": {
        "id": "zh3B6KfDy4wy",
        "colab": {
          "base_uri": "https://localhost:8080/",
          "height": 240
        },
        "outputId": "0080896a-571f-44cb-b551-9daa5d2801f5"
      },
      "source": [
        "# example\n",
        "\n",
        "fig, axs = plt.subplots(2, 5)\n",
        "\n",
        "axs[0, 0].imshow(x_train[8][:,:,0])\n",
        "axs[0, 0].set_title('zero')\n",
        "axs[0, 0].axis('off')\n",
        "\n",
        "axs[0, 1].imshow(x_train[7][:,:,0])\n",
        "axs[0, 1].set_title('one')\n",
        "axs[0, 1].axis('off')\n",
        "\n",
        "axs[0, 2].imshow(x_train[12][:,:,0])\n",
        "axs[0, 2].set_title('two')\n",
        "axs[0, 2].axis('off')\n",
        "\n",
        "axs[0, 3].imshow(x_train[10][:,:,0])\n",
        "axs[0, 3].set_title('three')\n",
        "axs[0, 3].axis('off')\n",
        "\n",
        "axs[0, 4].imshow(x_train[28][:,:,0])\n",
        "axs[0, 4].set_title('four')\n",
        "axs[0, 4].axis('off')\n",
        "\n",
        "\n",
        "axs[1, 0].imshow(x_train[3][:,:,0])\n",
        "axs[1, 0].set_title('five')\n",
        "axs[1, 0].axis('off')\n",
        "\n",
        "axs[1, 1].imshow(x_train[30][:,:,0])\n",
        "axs[1, 1].set_title('six')\n",
        "axs[1, 1].axis('off')\n",
        "\n",
        "axs[1, 2].imshow(x_train[0][:,:,0])\n",
        "axs[1, 2].set_title('seven')\n",
        "axs[1, 2].axis('off')\n",
        "\n",
        "axs[1, 3].imshow(x_train[21][:,:,0])\n",
        "axs[1, 3].set_title('eight')\n",
        "axs[1, 3].axis('off')\n",
        "\n",
        "axs[1, 4].imshow(x_train[31][:,:,0])\n",
        "axs[1, 4].set_title('nine')\n",
        "axs[1, 4].axis('off')"
      ],
      "execution_count": null,
      "outputs": [
        {
          "output_type": "execute_result",
          "data": {
            "text/plain": [
              "(-0.5, 27.5, 27.5, -0.5)"
            ]
          },
          "metadata": {
            "tags": []
          },
          "execution_count": 52
        },
        {
          "output_type": "display_data",
          "data": {
            "image/png": "[encoded data removed]",
            "text/plain": [
              "<Figure size 432x288 with 10 Axes>"
            ]
          },
          "metadata": {
            "tags": [],
            "needs_background": "light"
          }
        }
      ]
    },
    {
      "cell_type": "markdown",
      "metadata": {
        "id": "UcQY7n4lhgFF"
      },
      "source": [
        "**Creating the model**"
      ]
    },
    {
      "cell_type": "code",
      "metadata": {
        "id": "nxC0xuygpaIu"
      },
      "source": [
        "# Model\n",
        "model = Sequential()\n",
        "\n",
        "model.add(Conv2D(32, kernel_size = (5,5), activation ='relu', input_shape = (28,28,1)))\n",
        "model.add(Conv2D(32, kernel_size = (5,5), activation ='relu'))\n",
        "model.add(MaxPool2D(pool_size=(5,5)))\n",
        "\n",
        "model.add(Flatten())\n",
        "model.add(Dense(10, activation = \"softmax\"))"
      ],
      "execution_count": null,
      "outputs": []
    },
    {
      "cell_type": "code",
      "metadata": {
        "id": "ISGUwfdfAf5K"
      },
      "source": [
        "# Compile\n",
        "model.compile(optimizer = RMSprop() , loss = \"categorical_crossentropy\", metrics=[\"accuracy\"])"
      ],
      "execution_count": null,
      "outputs": []
    },
    {
      "cell_type": "code",
      "metadata": {
        "colab": {
          "base_uri": "https://localhost:8080/"
        },
        "id": "o1MknzEJ0Sjo",
        "outputId": "4a7873e1-8963-4273-f3c1-9075ccdf5c34"
      },
      "source": [
        "history = model.fit(x_train, y_train, batch_size = 50, epochs = 50, validation_data = (x_val, y_val))"
      ],
      "execution_count": null,
      "outputs": [
        {
          "output_type": "stream",
          "text": [
            "Epoch 1/50\n",
            "756/756 [==============================] - 35s 8ms/step - loss: 0.4614 - accuracy: 0.8592 - val_loss: 0.0798 - val_accuracy: 0.9762\n",
            "Epoch 2/50\n",
            "756/756 [==============================] - 5s 7ms/step - loss: 0.0704 - accuracy: 0.9781 - val_loss: 0.0541 - val_accuracy: 0.9845\n",
            "Epoch 3/50\n",
            "756/756 [==============================] - 5s 7ms/step - loss: 0.0481 - accuracy: 0.9851 - val_loss: 0.0499 - val_accuracy: 0.9850\n",
            "Epoch 4/50\n",
            "756/756 [==============================] - 5s 7ms/step - loss: 0.0383 - accuracy: 0.9873 - val_loss: 0.0584 - val_accuracy: 0.9826\n",
            "Epoch 5/50\n",
            "756/756 [==============================] - 5s 7ms/step - loss: 0.0328 - accuracy: 0.9895 - val_loss: 0.0434 - val_accuracy: 0.9890\n",
            "Epoch 6/50\n",
            "756/756 [==============================] - 5s 7ms/step - loss: 0.0274 - accuracy: 0.9916 - val_loss: 0.0404 - val_accuracy: 0.9900\n",
            "Epoch 7/50\n",
            "756/756 [==============================] - 5s 7ms/step - loss: 0.0253 - accuracy: 0.9920 - val_loss: 0.0402 - val_accuracy: 0.9900\n",
            "Epoch 8/50\n",
            "756/756 [==============================] - 5s 7ms/step - loss: 0.0215 - accuracy: 0.9932 - val_loss: 0.0433 - val_accuracy: 0.9900\n",
            "Epoch 9/50\n",
            "756/756 [==============================] - 5s 7ms/step - loss: 0.0180 - accuracy: 0.9943 - val_loss: 0.0480 - val_accuracy: 0.9886\n",
            "Epoch 10/50\n",
            "756/756 [==============================] - 5s 7ms/step - loss: 0.0182 - accuracy: 0.9950 - val_loss: 0.0451 - val_accuracy: 0.9890\n",
            "Epoch 11/50\n",
            "756/756 [==============================] - 5s 7ms/step - loss: 0.0160 - accuracy: 0.9954 - val_loss: 0.0507 - val_accuracy: 0.9883\n",
            "Epoch 12/50\n",
            "756/756 [==============================] - 5s 7ms/step - loss: 0.0130 - accuracy: 0.9959 - val_loss: 0.0485 - val_accuracy: 0.9902\n",
            "Epoch 13/50\n",
            "756/756 [==============================] - 5s 7ms/step - loss: 0.0136 - accuracy: 0.9971 - val_loss: 0.0465 - val_accuracy: 0.9919\n",
            "Epoch 14/50\n",
            "756/756 [==============================] - 5s 7ms/step - loss: 0.0133 - accuracy: 0.9960 - val_loss: 0.0534 - val_accuracy: 0.9895\n",
            "Epoch 15/50\n",
            "756/756 [==============================] - 5s 7ms/step - loss: 0.0085 - accuracy: 0.9973 - val_loss: 0.0502 - val_accuracy: 0.9886\n",
            "Epoch 16/50\n",
            "756/756 [==============================] - 5s 7ms/step - loss: 0.0087 - accuracy: 0.9973 - val_loss: 0.0614 - val_accuracy: 0.9883\n",
            "Epoch 17/50\n",
            "756/756 [==============================] - 5s 7ms/step - loss: 0.0084 - accuracy: 0.9978 - val_loss: 0.0610 - val_accuracy: 0.9898\n",
            "Epoch 18/50\n",
            "756/756 [==============================] - 5s 7ms/step - loss: 0.0051 - accuracy: 0.9983 - val_loss: 0.0565 - val_accuracy: 0.9912\n",
            "Epoch 19/50\n",
            "756/756 [==============================] - 5s 7ms/step - loss: 0.0039 - accuracy: 0.9989 - val_loss: 0.0672 - val_accuracy: 0.9883\n",
            "Epoch 20/50\n",
            "756/756 [==============================] - 5s 7ms/step - loss: 0.0071 - accuracy: 0.9988 - val_loss: 0.0657 - val_accuracy: 0.9895\n",
            "Epoch 21/50\n",
            "756/756 [==============================] - 5s 7ms/step - loss: 0.0039 - accuracy: 0.9989 - val_loss: 0.0704 - val_accuracy: 0.9902\n",
            "Epoch 22/50\n",
            "756/756 [==============================] - 5s 7ms/step - loss: 0.0043 - accuracy: 0.9988 - val_loss: 0.0759 - val_accuracy: 0.9893\n",
            "Epoch 23/50\n",
            "756/756 [==============================] - 5s 7ms/step - loss: 0.0049 - accuracy: 0.9987 - val_loss: 0.0829 - val_accuracy: 0.9881\n",
            "Epoch 24/50\n",
            "756/756 [==============================] - 5s 7ms/step - loss: 0.0035 - accuracy: 0.9993 - val_loss: 0.0837 - val_accuracy: 0.9881\n",
            "Epoch 25/50\n",
            "756/756 [==============================] - 5s 7ms/step - loss: 0.0068 - accuracy: 0.9990 - val_loss: 0.0828 - val_accuracy: 0.9893\n",
            "Epoch 26/50\n",
            "756/756 [==============================] - 5s 7ms/step - loss: 0.0042 - accuracy: 0.9993 - val_loss: 0.0810 - val_accuracy: 0.9893\n",
            "Epoch 27/50\n",
            "756/756 [==============================] - 5s 7ms/step - loss: 0.0028 - accuracy: 0.9994 - val_loss: 0.0851 - val_accuracy: 0.9893\n",
            "Epoch 28/50\n",
            "756/756 [==============================] - 5s 7ms/step - loss: 0.0023 - accuracy: 0.9993 - val_loss: 0.0948 - val_accuracy: 0.9876\n",
            "Epoch 29/50\n",
            "756/756 [==============================] - 5s 7ms/step - loss: 0.0039 - accuracy: 0.9991 - val_loss: 0.0891 - val_accuracy: 0.9886\n",
            "Epoch 30/50\n",
            "756/756 [==============================] - 5s 7ms/step - loss: 0.0016 - accuracy: 0.9994 - val_loss: 0.0970 - val_accuracy: 0.9886\n",
            "Epoch 31/50\n",
            "756/756 [==============================] - 5s 7ms/step - loss: 0.0030 - accuracy: 0.9995 - val_loss: 0.1039 - val_accuracy: 0.9886\n",
            "Epoch 32/50\n",
            "756/756 [==============================] - 5s 7ms/step - loss: 0.0015 - accuracy: 0.9995 - val_loss: 0.1052 - val_accuracy: 0.9886\n",
            "Epoch 33/50\n",
            "756/756 [==============================] - 5s 7ms/step - loss: 0.0021 - accuracy: 0.9994 - val_loss: 0.1087 - val_accuracy: 0.9886\n",
            "Epoch 34/50\n",
            "756/756 [==============================] - 5s 7ms/step - loss: 0.0019 - accuracy: 0.9994 - val_loss: 0.1047 - val_accuracy: 0.9890\n",
            "Epoch 35/50\n",
            "756/756 [==============================] - 5s 7ms/step - loss: 0.0019 - accuracy: 0.9996 - val_loss: 0.1238 - val_accuracy: 0.9881\n",
            "Epoch 36/50\n",
            "756/756 [==============================] - 5s 7ms/step - loss: 0.0029 - accuracy: 0.9995 - val_loss: 0.1161 - val_accuracy: 0.9888\n",
            "Epoch 37/50\n",
            "756/756 [==============================] - 5s 7ms/step - loss: 0.0014 - accuracy: 0.9997 - val_loss: 0.1180 - val_accuracy: 0.9886\n",
            "Epoch 38/50\n",
            "756/756 [==============================] - 5s 7ms/step - loss: 0.0011 - accuracy: 0.9998 - val_loss: 0.1167 - val_accuracy: 0.9907\n",
            "Epoch 39/50\n",
            "756/756 [==============================] - 5s 7ms/step - loss: 0.0012 - accuracy: 0.9997 - val_loss: 0.1214 - val_accuracy: 0.9888\n",
            "Epoch 40/50\n",
            "756/756 [==============================] - 5s 7ms/step - loss: 9.4576e-04 - accuracy: 0.9997 - val_loss: 0.1411 - val_accuracy: 0.9848\n",
            "Epoch 41/50\n",
            "756/756 [==============================] - 5s 7ms/step - loss: 7.6636e-04 - accuracy: 0.9999 - val_loss: 0.1307 - val_accuracy: 0.9895\n",
            "Epoch 42/50\n",
            "756/756 [==============================] - 5s 7ms/step - loss: 0.0013 - accuracy: 0.9995 - val_loss: 0.1261 - val_accuracy: 0.9893\n",
            "Epoch 43/50\n",
            "756/756 [==============================] - 5s 7ms/step - loss: 0.0012 - accuracy: 0.9998 - val_loss: 0.1211 - val_accuracy: 0.9907\n",
            "Epoch 44/50\n",
            "756/756 [==============================] - 5s 7ms/step - loss: 0.0010 - accuracy: 0.9997 - val_loss: 0.1415 - val_accuracy: 0.9867\n",
            "Epoch 45/50\n",
            "756/756 [==============================] - 5s 7ms/step - loss: 6.5901e-04 - accuracy: 0.9998 - val_loss: 0.1456 - val_accuracy: 0.9867\n",
            "Epoch 46/50\n",
            "756/756 [==============================] - 5s 7ms/step - loss: 4.5503e-04 - accuracy: 0.9999 - val_loss: 0.1444 - val_accuracy: 0.9871\n",
            "Epoch 47/50\n",
            "756/756 [==============================] - 5s 7ms/step - loss: 7.0589e-04 - accuracy: 0.9999 - val_loss: 0.1488 - val_accuracy: 0.9890\n",
            "Epoch 48/50\n",
            "756/756 [==============================] - 5s 7ms/step - loss: 7.6107e-04 - accuracy: 0.9997 - val_loss: 0.1541 - val_accuracy: 0.9874\n",
            "Epoch 49/50\n",
            "756/756 [==============================] - 5s 7ms/step - loss: 7.4821e-04 - accuracy: 0.9997 - val_loss: 0.1457 - val_accuracy: 0.9893\n",
            "Epoch 50/50\n",
            "756/756 [==============================] - 5s 7ms/step - loss: 0.0011 - accuracy: 0.9998 - val_loss: 0.1491 - val_accuracy: 0.9881\n"
          ],
          "name": "stdout"
        }
      ]
    },
    {
      "cell_type": "markdown",
      "metadata": {
        "id": "3db7Obwrhpw7"
      },
      "source": [
        "**Visualization of model accuracy and loss**"
      ]
    },
    {
      "cell_type": "code",
      "metadata": {
        "colab": {
          "base_uri": "https://localhost:8080/",
          "height": 295
        },
        "id": "bU2w5O_ZRuGI",
        "outputId": "37acd235-1036-4e97-a3d0-cd40caf64108"
      },
      "source": [
        "plt.plot(history.history[\"accuracy\"],\"b\")\n",
        "plt.plot(history.history[\"val_accuracy\"], \"r\")\n",
        "plt.title(\"Model Accuracy\")\n",
        "plt.ylabel(\"Accuracy\")\n",
        "plt.xlabel(\"Epoch\")\n",
        "plt.legend([\"Training\", \"Validation\"])\n",
        "plt.show()"
      ],
      "execution_count": null,
      "outputs": [
        {
          "output_type": "display_data",
          "data": {
            "image/png": "[encoded data removed]",
            "text/plain": [
              "<Figure size 432x288 with 1 Axes>"
            ]
          },
          "metadata": {
            "tags": [],
            "needs_background": "light"
          }
        }
      ]
    },
    {
      "cell_type": "code",
      "metadata": {
        "colab": {
          "base_uri": "https://localhost:8080/",
          "height": 295
        },
        "id": "81pMsfP6WPo1",
        "outputId": "48ed4b3f-5efb-4a53-e4f0-cedb31503423"
      },
      "source": [
        "plt.plot(history.history[\"loss\"],\"b\")\n",
        "plt.plot(history.history[\"val_loss\"], \"r\")\n",
        "plt.title(\"Model Loss\")\n",
        "plt.ylabel(\"Loss\")\n",
        "plt.xlabel(\"Epoch\")\n",
        "plt.legend([\"Training Loss\", \"Validation Loss\"])\n",
        "plt.show()"
      ],
      "execution_count": null,
      "outputs": [
        {
          "output_type": "display_data",
          "data": {
            "image/png": "[encoded data removed]",
            "text/plain": [
              "<Figure size 432x288 with 1 Axes>"
            ]
          },
          "metadata": {
            "tags": [],
            "needs_background": "light"
          }
        }
      ]
    },
    {
      "cell_type": "markdown",
      "metadata": {
        "id": "kMm-77O8Xji5"
      },
      "source": [
        "**Based on Validation loss we can see that the model starts overfitting. We found a great article about \"How to Configure Image Data Augmentation in Keras\" (https://machinelearningmastery.com/how-to-configure-image-data-augmentation-when-training-deep-learning-neural-networks/?fbclid=IwAR3ZcKqEyTICkXTV6Bx3EYyH87H95d3LJa3PRLnQvoiWW-x3xsYFV2npve4).**\n",
        "**We decided to use that knowledge to prevent overfitting.**"
      ]
    },
    {
      "cell_type": "code",
      "metadata": {
        "id": "pOPrcJxgW_Ha"
      },
      "source": [
        "from keras.preprocessing.image import ImageDataGenerator\n",
        "from keras.callbacks import ReduceLROnPlateau"
      ],
      "execution_count": null,
      "outputs": []
    },
    {
      "cell_type": "code",
      "metadata": {
        "id": "9l1PWTh7RRH_"
      },
      "source": [
        "# Data Augmentation\n",
        "datagen = ImageDataGenerator(\n",
        "        featurewise_center=False,\n",
        "        samplewise_center=False,\n",
        "        featurewise_std_normalization=False,\n",
        "        samplewise_std_normalization=False,\n",
        "        zca_whitening=False,\n",
        "        rotation_range=10,\n",
        "        zoom_range = 0.1,\n",
        "        width_shift_range=0.1,\n",
        "        height_shift_range=0.1,\n",
        "        horizontal_flip=False,\n",
        "        vertical_flip=False)\n",
        "\n",
        "\n",
        "\n",
        "datagen.fit(x_train)"
      ],
      "execution_count": null,
      "outputs": []
    },
    {
      "cell_type": "code",
      "metadata": {
        "colab": {
          "base_uri": "https://localhost:8080/"
        },
        "id": "sTzUrydAWsMt",
        "outputId": "1736e2be-56db-4a07-890d-7990a0ed606f"
      },
      "source": [
        "# Fit Model\n",
        "batch_size = 50\n",
        "\n",
        "history = model.fit_generator(datagen.flow(x_train,y_train, batch_size = batch_size),\n",
        "                              epochs = 50, validation_data = (x_val,y_val),\n",
        "                              steps_per_epoch = x_train.shape[0] // batch_size)"
      ],
      "execution_count": null,
      "outputs": [
        {
          "output_type": "stream",
          "text": [
            "Epoch 1/50\n",
            "  9/756 [..............................] - ETA: 10s - loss: 0.0460 - accuracy: 0.9867"
          ],
          "name": "stdout"
        },
        {
          "output_type": "stream",
          "text": [
            "/usr/local/lib/python3.7/dist-packages/tensorflow/python/keras/engine/training.py:1844: UserWarning: `Model.fit_generator` is deprecated and will be removed in a future version. Please use `Model.fit`, which supports generators.\n",
            "  warnings.warn('`Model.fit_generator` is deprecated and '\n"
          ],
          "name": "stderr"
        },
        {
          "output_type": "stream",
          "text": [
            "756/756 [==============================] - 11s 14ms/step - loss: 0.0369 - accuracy: 0.9888 - val_loss: 0.0413 - val_accuracy: 0.9900\n",
            "Epoch 2/50\n",
            "756/756 [==============================] - 11s 15ms/step - loss: 0.0390 - accuracy: 0.9889 - val_loss: 0.0506 - val_accuracy: 0.9900\n",
            "Epoch 3/50\n",
            "756/756 [==============================] - 11s 14ms/step - loss: 0.0369 - accuracy: 0.9891 - val_loss: 0.0443 - val_accuracy: 0.9907\n",
            "Epoch 4/50\n",
            "756/756 [==============================] - 11s 14ms/step - loss: 0.0374 - accuracy: 0.9899 - val_loss: 0.0328 - val_accuracy: 0.9917\n",
            "Epoch 5/50\n",
            "756/756 [==============================] - 11s 15ms/step - loss: 0.0374 - accuracy: 0.9894 - val_loss: 0.0416 - val_accuracy: 0.9898\n",
            "Epoch 6/50\n",
            "756/756 [==============================] - 11s 14ms/step - loss: 0.0357 - accuracy: 0.9898 - val_loss: 0.0393 - val_accuracy: 0.9907\n",
            "Epoch 7/50\n",
            "756/756 [==============================] - 11s 14ms/step - loss: 0.0367 - accuracy: 0.9892 - val_loss: 0.0485 - val_accuracy: 0.9895\n",
            "Epoch 8/50\n",
            "756/756 [==============================] - 11s 15ms/step - loss: 0.0374 - accuracy: 0.9892 - val_loss: 0.0511 - val_accuracy: 0.9895\n",
            "Epoch 9/50\n",
            "756/756 [==============================] - 11s 14ms/step - loss: 0.0358 - accuracy: 0.9890 - val_loss: 0.0494 - val_accuracy: 0.9895\n",
            "Epoch 10/50\n",
            "756/756 [==============================] - 11s 15ms/step - loss: 0.0361 - accuracy: 0.9898 - val_loss: 0.0377 - val_accuracy: 0.9910\n",
            "Epoch 11/50\n",
            "756/756 [==============================] - 11s 15ms/step - loss: 0.0368 - accuracy: 0.9896 - val_loss: 0.0381 - val_accuracy: 0.9914\n",
            "Epoch 12/50\n",
            "756/756 [==============================] - 11s 15ms/step - loss: 0.0358 - accuracy: 0.9891 - val_loss: 0.0487 - val_accuracy: 0.9910\n",
            "Epoch 13/50\n",
            "756/756 [==============================] - 11s 15ms/step - loss: 0.0373 - accuracy: 0.9892 - val_loss: 0.0407 - val_accuracy: 0.9898\n",
            "Epoch 14/50\n",
            "756/756 [==============================] - 11s 15ms/step - loss: 0.0356 - accuracy: 0.9901 - val_loss: 0.0379 - val_accuracy: 0.9907\n",
            "Epoch 15/50\n",
            "756/756 [==============================] - 11s 14ms/step - loss: 0.0369 - accuracy: 0.9890 - val_loss: 0.0484 - val_accuracy: 0.9893\n",
            "Epoch 16/50\n",
            "756/756 [==============================] - 11s 14ms/step - loss: 0.0375 - accuracy: 0.9889 - val_loss: 0.0373 - val_accuracy: 0.9917\n",
            "Epoch 17/50\n",
            "756/756 [==============================] - 11s 14ms/step - loss: 0.0355 - accuracy: 0.9896 - val_loss: 0.0388 - val_accuracy: 0.9910\n",
            "Epoch 18/50\n",
            "756/756 [==============================] - 11s 15ms/step - loss: 0.0370 - accuracy: 0.9897 - val_loss: 0.0568 - val_accuracy: 0.9881\n",
            "Epoch 19/50\n",
            "756/756 [==============================] - 11s 14ms/step - loss: 0.0370 - accuracy: 0.9892 - val_loss: 0.0420 - val_accuracy: 0.9917\n",
            "Epoch 20/50\n",
            "756/756 [==============================] - 11s 15ms/step - loss: 0.0348 - accuracy: 0.9898 - val_loss: 0.0476 - val_accuracy: 0.9912\n",
            "Epoch 21/50\n",
            "756/756 [==============================] - 11s 15ms/step - loss: 0.0358 - accuracy: 0.9892 - val_loss: 0.0462 - val_accuracy: 0.9907\n",
            "Epoch 22/50\n",
            "756/756 [==============================] - 11s 14ms/step - loss: 0.0337 - accuracy: 0.9904 - val_loss: 0.0454 - val_accuracy: 0.9912\n",
            "Epoch 23/50\n",
            "756/756 [==============================] - 11s 14ms/step - loss: 0.0380 - accuracy: 0.9897 - val_loss: 0.0398 - val_accuracy: 0.9921\n",
            "Epoch 24/50\n",
            "756/756 [==============================] - 11s 14ms/step - loss: 0.0374 - accuracy: 0.9893 - val_loss: 0.0505 - val_accuracy: 0.9902\n",
            "Epoch 25/50\n",
            "756/756 [==============================] - 11s 14ms/step - loss: 0.0378 - accuracy: 0.9889 - val_loss: 0.0382 - val_accuracy: 0.9914\n",
            "Epoch 26/50\n",
            "756/756 [==============================] - 11s 14ms/step - loss: 0.0346 - accuracy: 0.9901 - val_loss: 0.0411 - val_accuracy: 0.9898\n",
            "Epoch 27/50\n",
            "756/756 [==============================] - 11s 15ms/step - loss: 0.0392 - accuracy: 0.9899 - val_loss: 0.0392 - val_accuracy: 0.9914\n",
            "Epoch 28/50\n",
            "756/756 [==============================] - 11s 15ms/step - loss: 0.0374 - accuracy: 0.9895 - val_loss: 0.0434 - val_accuracy: 0.9905\n",
            "Epoch 29/50\n",
            "756/756 [==============================] - 11s 15ms/step - loss: 0.0371 - accuracy: 0.9895 - val_loss: 0.0402 - val_accuracy: 0.9902\n",
            "Epoch 30/50\n",
            "756/756 [==============================] - 11s 15ms/step - loss: 0.0369 - accuracy: 0.9894 - val_loss: 0.0588 - val_accuracy: 0.9883\n",
            "Epoch 31/50\n",
            "756/756 [==============================] - 11s 15ms/step - loss: 0.0375 - accuracy: 0.9896 - val_loss: 0.0474 - val_accuracy: 0.9914\n",
            "Epoch 32/50\n",
            "756/756 [==============================] - 11s 15ms/step - loss: 0.0368 - accuracy: 0.9894 - val_loss: 0.0457 - val_accuracy: 0.9902\n",
            "Epoch 33/50\n",
            "756/756 [==============================] - 11s 15ms/step - loss: 0.0354 - accuracy: 0.9896 - val_loss: 0.0506 - val_accuracy: 0.9895\n",
            "Epoch 34/50\n",
            "756/756 [==============================] - 11s 15ms/step - loss: 0.0381 - accuracy: 0.9892 - val_loss: 0.0329 - val_accuracy: 0.9914\n",
            "Epoch 35/50\n",
            "756/756 [==============================] - 11s 15ms/step - loss: 0.0389 - accuracy: 0.9893 - val_loss: 0.0743 - val_accuracy: 0.9862\n",
            "Epoch 36/50\n",
            "756/756 [==============================] - 11s 15ms/step - loss: 0.0374 - accuracy: 0.9891 - val_loss: 0.0433 - val_accuracy: 0.9907\n",
            "Epoch 37/50\n",
            "756/756 [==============================] - 11s 14ms/step - loss: 0.0405 - accuracy: 0.9886 - val_loss: 0.0375 - val_accuracy: 0.9910\n",
            "Epoch 38/50\n",
            "756/756 [==============================] - 11s 15ms/step - loss: 0.0343 - accuracy: 0.9897 - val_loss: 0.0612 - val_accuracy: 0.9881\n",
            "Epoch 39/50\n",
            "756/756 [==============================] - 11s 14ms/step - loss: 0.0336 - accuracy: 0.9908 - val_loss: 0.0533 - val_accuracy: 0.9912\n",
            "Epoch 40/50\n",
            "756/756 [==============================] - 11s 15ms/step - loss: 0.0380 - accuracy: 0.9895 - val_loss: 0.0567 - val_accuracy: 0.9905\n",
            "Epoch 41/50\n",
            "756/756 [==============================] - 11s 15ms/step - loss: 0.0369 - accuracy: 0.9895 - val_loss: 0.0569 - val_accuracy: 0.9890\n",
            "Epoch 42/50\n",
            "756/756 [==============================] - 11s 15ms/step - loss: 0.0366 - accuracy: 0.9898 - val_loss: 0.1039 - val_accuracy: 0.9850\n",
            "Epoch 43/50\n",
            "756/756 [==============================] - 11s 15ms/step - loss: 0.0363 - accuracy: 0.9894 - val_loss: 0.0610 - val_accuracy: 0.9895\n",
            "Epoch 44/50\n",
            "756/756 [==============================] - 11s 15ms/step - loss: 0.0409 - accuracy: 0.9890 - val_loss: 0.0480 - val_accuracy: 0.9917\n",
            "Epoch 45/50\n",
            "756/756 [==============================] - 11s 15ms/step - loss: 0.0378 - accuracy: 0.9899 - val_loss: 0.0879 - val_accuracy: 0.9879\n",
            "Epoch 46/50\n",
            "756/756 [==============================] - 11s 15ms/step - loss: 0.0406 - accuracy: 0.9893 - val_loss: 0.0544 - val_accuracy: 0.9902\n",
            "Epoch 47/50\n",
            "756/756 [==============================] - 11s 15ms/step - loss: 0.0369 - accuracy: 0.9896 - val_loss: 0.0520 - val_accuracy: 0.9900\n",
            "Epoch 48/50\n",
            "756/756 [==============================] - 11s 15ms/step - loss: 0.0350 - accuracy: 0.9895 - val_loss: 0.0540 - val_accuracy: 0.9902\n",
            "Epoch 49/50\n",
            "756/756 [==============================] - 11s 15ms/step - loss: 0.0387 - accuracy: 0.9890 - val_loss: 0.0542 - val_accuracy: 0.9910\n",
            "Epoch 50/50\n",
            "756/756 [==============================] - 11s 15ms/step - loss: 0.0370 - accuracy: 0.9899 - val_loss: 0.0671 - val_accuracy: 0.9886\n"
          ],
          "name": "stdout"
        }
      ]
    },
    {
      "cell_type": "code",
      "metadata": {
        "colab": {
          "base_uri": "https://localhost:8080/",
          "height": 295
        },
        "id": "ykccpx57ZFz4",
        "outputId": "3fa26b8d-deef-4472-a411-d7b310663139"
      },
      "source": [
        "plt.plot(history.history[\"accuracy\"],\"b\")\n",
        "plt.plot(history.history[\"val_accuracy\"], \"r\")\n",
        "plt.title(\"Model Accuracy\")\n",
        "plt.ylabel(\"Accuracy\")\n",
        "plt.xlabel(\"Epoch\")\n",
        "plt.legend([\"Training\", \"Validation\"])\n",
        "plt.show()"
      ],
      "execution_count": null,
      "outputs": [
        {
          "output_type": "display_data",
          "data": {
            "image/png": "[encoded data removed]",
            "text/plain": [
              "<Figure size 432x288 with 1 Axes>"
            ]
          },
          "metadata": {
            "tags": [],
            "needs_background": "light"
          }
        }
      ]
    },
    {
      "cell_type": "code",
      "metadata": {
        "colab": {
          "base_uri": "https://localhost:8080/",
          "height": 295
        },
        "id": "aTvcb-GvZGVj",
        "outputId": "944f224d-dddc-4d44-f508-181aec859878"
      },
      "source": [
        "plt.plot(history.history[\"loss\"],\"b\")\n",
        "plt.plot(history.history[\"val_loss\"], \"r\")\n",
        "plt.title(\"Model Loss\")\n",
        "plt.ylabel(\"Loss\")\n",
        "plt.xlabel(\"Epoch\")\n",
        "plt.legend([\"Training Loss\", \"Validation Loss\"])\n",
        "plt.show()"
      ],
      "execution_count": null,
      "outputs": [
        {
          "output_type": "display_data",
          "data": {
            "image/png": "[encoded data removed]",
            "text/plain": [
              "<Figure size 432x288 with 1 Axes>"
            ]
          },
          "metadata": {
            "tags": [],
            "needs_background": "light"
          }
        }
      ]
    },
    {
      "cell_type": "markdown",
      "metadata": {
        "id": "F0vu7Tc4CBrz"
      },
      "source": [
        "**As we can see now our model is not overfitting or underfitting anymore. It reached one of the optimas. We could now increase the epochs and it wouldn't overtrain. Unfortunately it will also not give us a better accuracy.\n",
        "Meaning that this model reached a final accuracy of: ~99% .**"
      ]
    },
    {
      "cell_type": "code",
      "metadata": {
        "id": "7pU2TTq-lKyB"
      },
      "source": [
        "from skimage import io\n",
        "from skimage import transform"
      ],
      "execution_count": null,
      "outputs": []
    },
    {
      "cell_type": "markdown",
      "metadata": {
        "id": "ntLNxwXjiINL"
      },
      "source": [
        "**Example of a number**"
      ]
    },
    {
      "cell_type": "code",
      "metadata": {
        "colab": {
          "base_uri": "https://localhost:8080/",
          "height": 265
        },
        "id": "8cgtAgHcwj2X",
        "outputId": "78435393-4c52-43c6-a231-f7791303f855"
      },
      "source": [
        "#8\n",
        "#plt.imshow(X_train[0][:,:,0])\n",
        "test_img_8 = io.imread('/content/drive/MyDrive/MNIST/eight.jpg')\n",
        "plt.imshow(test_img_8)\n",
        "plt.axis(\"off\")\n",
        "test_img_8 = test_img_8 / 255.0\n",
        "test_img_8 = transform.resize(test_img_8, (28,28,1))\n",
        "prediction_8 = model.predict(np.array ([test_img_8,]))\n",
        "print(\"The prediction is: \", np.argmax(prediction_8))"
      ],
      "execution_count": null,
      "outputs": [
        {
          "output_type": "stream",
          "text": [
            "The prediction is:  8\n"
          ],
          "name": "stdout"
        },
        {
          "output_type": "display_data",
          "data": {
            "image/png": "[encoded data removed]",
            "text/plain": [
              "<Figure size 432x288 with 1 Axes>"
            ]
          },
          "metadata": {
            "tags": [],
            "needs_background": "light"
          }
        }
      ]
    },
    {
      "cell_type": "code",
      "metadata": {
        "id": "VtUulDmhtEQG"
      },
      "source": [
        "from sklearn.metrics import confusion_matrix\n",
        "import itertools"
      ],
      "execution_count": null,
      "outputs": []
    },
    {
      "cell_type": "markdown",
      "metadata": {
        "id": "YWPOhA8kiT2-"
      },
      "source": [
        "**Confusion matrix**"
      ]
    },
    {
      "cell_type": "code",
      "metadata": {
        "id": "sDNU8zCjbZ0R",
        "colab": {
          "base_uri": "https://localhost:8080/",
          "height": 311
        },
        "outputId": "52506081-0bdd-4380-920f-fe639f903536"
      },
      "source": [
        "def plot_confusion_matrix(cm, classes,\n",
        "                          normalize=False,\n",
        "                          title='Confusion matrix',\n",
        "                          cmap=plt.cm.Blues):\n",
        "\n",
        "    plt.imshow(cm, interpolation='nearest', cmap=cmap)\n",
        "    plt.title(title)\n",
        "    plt.colorbar()\n",
        "    tick_marks = np.arange(len(classes))\n",
        "    plt.xticks(tick_marks, classes, rotation=45)\n",
        "    plt.yticks(tick_marks, classes)\n",
        "\n",
        "    if normalize:\n",
        "        cm = cm.astype('float') / cm.sum(axis=1)[:, np.newaxis]\n",
        "\n",
        "    thresh = cm.max() / 2.\n",
        "    for i, j in itertools.product(range(cm.shape[0]), range(cm.shape[1])):\n",
        "        plt.text(j, i, cm[i, j],\n",
        "                 horizontalalignment=\"center\",\n",
        "                 color=\"white\" if cm[i, j] > thresh else \"black\")\n",
        "\n",
        "    plt.tight_layout()\n",
        "    plt.ylabel('True label')\n",
        "    plt.xlabel('Predicted label')\n",
        "\n",
        "# Predict the values from the validation dataset\n",
        "Y_pred = model.predict(x_val)\n",
        "# Convert predictions classes to one hot vectors \n",
        "Y_pred_classes = np.argmax(Y_pred,axis = 1) \n",
        "# Convert validation observations to one hot vectors\n",
        "Y_true = np.argmax(y_val,axis = 1) \n",
        "# compute the confusion matrix\n",
        "confusion_mtx = confusion_matrix(Y_true, Y_pred_classes) \n",
        "# plot the confusion matrix\n",
        "plot_confusion_matrix(confusion_mtx, classes = range(10))"
      ],
      "execution_count": null,
      "outputs": [
        {
          "output_type": "display_data",
          "data": {
            "image/png": "[encoded data removed]",
            "text/plain": [
              "<Figure size 432x288 with 2 Axes>"
            ]
          },
          "metadata": {
            "tags": [],
            "needs_background": "light"
          }
        }
      ]
    }
  ]
}